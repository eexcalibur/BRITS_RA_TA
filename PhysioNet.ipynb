{
 "cells": [
  {
   "cell_type": "code",
   "execution_count": 1,
   "metadata": {
    "tags": []
   },
   "outputs": [],
   "source": [
    "import copy\n",
    "import torch\n",
    "import torch.nn as nn\n",
    "import torch.nn.functional as F\n",
    "import torch.optim as optim\n",
    "from torch.optim.lr_scheduler import StepLR\n",
    "\n",
    "import numpy as np\n",
    "import sys\n",
    "import time\n",
    "import utils\n",
    "import my_models\n",
    "import argparse\n",
    "import data_loader\n",
    "import data_loader_imputation\n",
    "import pandas as pd\n",
    "import ujson as json\n",
    "import matplotlib.pyplot as plt\n",
    "\n",
    "from sklearn import metrics\n",
    "\n",
    "from ipdb import set_trace\n",
    "import warnings\n",
    "warnings.filterwarnings('ignore')"
   ]
  },
  {
   "cell_type": "code",
   "execution_count": 2,
   "metadata": {},
   "outputs": [],
   "source": [
    "epochs = 20\n",
    "batch_size = 64\n",
    "model_name = 'brits'"
   ]
  },
  {
   "cell_type": "code",
   "execution_count": 3,
   "metadata": {},
   "outputs": [],
   "source": [
    "def train(model):\n",
    "    optimizer = optim.Adam(model.parameters(), lr = 1e-3)\n",
    "\n",
    "    data_iter = data_loader.get_loader(batch_size = batch_size)\n",
    "\n",
    "    aucs = []\n",
    "\n",
    "    for epoch in range(epochs):\n",
    "        model.train()\n",
    "\n",
    "        run_loss = 0.0\n",
    "\n",
    "        for idx, data in enumerate(data_iter):\n",
    "            data = utils.to_var(data)\n",
    "\n",
    "            ret = model.run_on_batch(data, optimizer)\n",
    "            run_loss += ret['loss'].detach().cpu().numpy()\n",
    "\n",
    "            if idx % 20 == 0:\n",
    "                print('\\r Progress epoch {}, {:.2f}%, average loss {}'.format(epoch, (idx + 1) * 100.0 / len(data_iter), run_loss / (idx + 1.0)))\n",
    "\n",
    "        if epoch % 1 == 0:\n",
    "            auc = evaluate(model, data_iter)\n",
    "            aucs.append(auc)\n",
    "\n",
    "    return aucs"
   ]
  },
  {
   "cell_type": "code",
   "execution_count": 4,
   "metadata": {},
   "outputs": [],
   "source": [
    "def evaluate(model, val_iter):\n",
    "    model.eval()\n",
    "\n",
    "    labels_v = []\n",
    "    preds_v = []\n",
    "    labels_t = []\n",
    "    preds_t = []\n",
    "\n",
    "    evals = []\n",
    "    imputations = []\n",
    "\n",
    "    for idx, data in enumerate(val_iter):\n",
    "        data = utils.to_var(data)\n",
    "        ret = model.run_on_batch(data, None)\n",
    "\n",
    "        pred = ret['predictions'].data.cpu().numpy()\n",
    "        label = ret['labels'].data.cpu().numpy()\n",
    "        is_train = ret['is_train'].data.cpu().numpy()\n",
    "\n",
    "        eval_masks = ret['eval_masks'].data.cpu().numpy()\n",
    "        eval_ = ret['evals'].data.cpu().numpy()\n",
    "        imputation = ret['imputations'].data.cpu().numpy()\n",
    "\n",
    "        evals += eval_[np.where(eval_masks == 1)].tolist()\n",
    "        imputations += imputation[np.where(eval_masks == 1)].tolist()\n",
    "\n",
    "        # collect test and validation label & prediction\n",
    "        pred_v = pred[np.where(is_train == 0)]\n",
    "        label_v = label[np.where(is_train == 0)]\n",
    "        pred_t = pred[np.where(is_train == 2)]\n",
    "        label_t = label[np.where(is_train == 2)]\n",
    "\n",
    "        labels_v += label_v.tolist()\n",
    "        preds_v += pred_v.tolist()\n",
    "        labels_t += label_t.tolist()\n",
    "        preds_t += pred_t.tolist()\n",
    "\n",
    "    labels_v = np.asarray(labels_v).astype('int32')\n",
    "    preds_v = np.asarray(preds_v)\n",
    "    labels_t = np.asarray(labels_t).astype('int32')\n",
    "    preds_t = np.asarray(preds_t)\n",
    "\n",
    "    print('AUC of validation {}'.format(metrics.roc_auc_score(labels_v, preds_v)))\n",
    "    print('AUC of test {}'.format(metrics.roc_auc_score(labels_t, preds_t)))\n",
    "\n",
    "    evals = np.asarray(evals)\n",
    "    imputations = np.asarray(imputations)\n",
    "\n",
    "    print('MAE', np.abs(evals - imputations).mean())\n",
    "    print('MRE', np.abs(evals - imputations).sum() / np.abs(evals).sum())\n",
    "\n",
    "    return metrics.roc_auc_score(labels_v, preds_v)"
   ]
  },
  {
   "cell_type": "code",
   "execution_count": 5,
   "metadata": {},
   "outputs": [
    {
     "name": "stdout",
     "output_type": "stream",
     "text": [
      " Progress epoch 0, 1.59%, average loss 4.8031415939331055\n",
      " Progress epoch 0, 33.33%, average loss 4.548648970467704\n",
      " Progress epoch 0, 65.08%, average loss 4.428516853146437\n",
      " Progress epoch 0, 96.83%, average loss 4.288227257181386\n",
      "AUC of validation 0.7654565747349252\n",
      "AUC of test 0.7872481227378315\n",
      "MAE 0.5514444579232652\n",
      "MRE 0.7812946540722783\n",
      " Progress epoch 1, 1.59%, average loss 3.814361572265625\n",
      " Progress epoch 1, 33.33%, average loss 3.7512806483677457\n",
      " Progress epoch 1, 65.08%, average loss 3.678295676301165\n",
      " Progress epoch 1, 96.83%, average loss 3.6205627722818345\n",
      "AUC of validation 0.8101888565806092\n",
      "AUC of test 0.8330857328075199\n",
      "MAE 0.4645411852830483\n",
      "MRE 0.6581688136369842\n",
      " Progress epoch 2, 1.59%, average loss 3.2107841968536377\n",
      " Progress epoch 2, 33.33%, average loss 3.3390966937655495\n",
      " Progress epoch 2, 65.08%, average loss 3.326813058155339\n",
      " Progress epoch 2, 96.83%, average loss 3.3011702904935745\n",
      "AUC of validation 0.8412194907040268\n",
      "AUC of test 0.8354221814056507\n",
      "MAE 0.4197221769196792\n",
      "MRE 0.5946685805092563\n",
      " Progress epoch 3, 1.59%, average loss 3.247666358947754\n",
      " Progress epoch 3, 33.33%, average loss 3.215728771118891\n",
      " Progress epoch 3, 65.08%, average loss 3.1602375856259974\n",
      " Progress epoch 3, 96.83%, average loss 3.1274958204050534\n",
      "AUC of validation 0.8552589068052986\n",
      "AUC of test 0.8350710388417698\n",
      "MAE 0.39731817505817624\n",
      "MRE 0.5629262597139072\n",
      " Progress epoch 4, 1.59%, average loss 2.9546003341674805\n",
      " Progress epoch 4, 33.33%, average loss 3.0317898704892112\n",
      " Progress epoch 4, 65.08%, average loss 3.027865363330376\n",
      " Progress epoch 4, 96.83%, average loss 3.0171955100825576\n",
      "AUC of validation 0.8606632008693864\n",
      "AUC of test 0.8421209010858409\n",
      "MAE 0.3851944740390471\n",
      "MRE 0.5457492210154165\n",
      " Progress epoch 5, 1.59%, average loss 2.9305367469787598\n",
      " Progress epoch 5, 33.33%, average loss 2.9422338122413274\n",
      " Progress epoch 5, 65.08%, average loss 2.9585115851425545\n",
      " Progress epoch 5, 96.83%, average loss 2.941617926613229\n",
      "AUC of validation 0.8575645431315535\n",
      "AUC of test 0.8441062071200908\n",
      "MAE 0.3741839257571622\n",
      "MRE 0.5301493135588463\n",
      " Progress epoch 6, 1.59%, average loss 2.934382200241089\n",
      " Progress epoch 6, 33.33%, average loss 2.9019354638599215\n",
      " Progress epoch 6, 65.08%, average loss 2.884352306040322\n",
      " Progress epoch 6, 96.83%, average loss 2.8863961735709767\n",
      "AUC of validation 0.8877874702616971\n",
      "AUC of test 0.8464696666846739\n",
      "MAE 0.3710381130631446\n",
      "MRE 0.5256922796631667\n",
      " Progress epoch 7, 1.59%, average loss 3.0645718574523926\n",
      " Progress epoch 7, 33.33%, average loss 2.839565697170439\n",
      " Progress epoch 7, 65.08%, average loss 2.8393292892269972\n",
      " Progress epoch 7, 96.83%, average loss 2.8438292722233007\n",
      "AUC of validation 0.8719564131935266\n",
      "AUC of test 0.8304116471287343\n",
      "MAE 0.366760359094972\n",
      "MRE 0.5196314946489219\n",
      " Progress epoch 8, 1.59%, average loss 2.871398448944092\n",
      " Progress epoch 8, 33.33%, average loss 2.8528268223717097\n",
      " Progress epoch 8, 65.08%, average loss 2.833188039500539\n",
      " Progress epoch 8, 96.83%, average loss 2.8134634533866505\n",
      "AUC of validation 0.8784621258848062\n",
      "AUC of test 0.8522094970558046\n",
      "MAE 0.36028937617512846\n",
      "MRE 0.5104633104569786\n",
      " Progress epoch 9, 1.59%, average loss 2.6028337478637695\n",
      " Progress epoch 9, 33.33%, average loss 2.796439772560483\n",
      " Progress epoch 9, 65.08%, average loss 2.7880053520202637\n",
      " Progress epoch 9, 96.83%, average loss 2.7815980012299586\n",
      "AUC of validation 0.8936910741034453\n",
      "AUC of test 0.8562611420236617\n",
      "MAE 0.358708745558981\n",
      "MRE 0.5082238496505181\n",
      " Progress epoch 10, 1.59%, average loss 2.6944901943206787\n",
      " Progress epoch 10, 33.33%, average loss 2.777592624936785\n",
      " Progress epoch 10, 65.08%, average loss 2.7592328350718427\n",
      " Progress epoch 10, 96.83%, average loss 2.751792028302052\n",
      "AUC of validation 0.8920903456985931\n",
      "AUC of test 0.8544919237210307\n",
      "MAE 0.35564063582932576\n",
      "MRE 0.5038769064625962\n",
      " Progress epoch 11, 1.59%, average loss 2.7854349613189697\n",
      " Progress epoch 11, 33.33%, average loss 2.7263338679359075\n",
      " Progress epoch 11, 65.08%, average loss 2.723127725647717\n",
      " Progress epoch 11, 96.83%, average loss 2.724833058529213\n",
      "AUC of validation 0.8974799541809851\n",
      "AUC of test 0.8545189346874831\n",
      "MAE 0.3545167412149114\n",
      "MRE 0.5022845559704189\n",
      " Progress epoch 12, 1.59%, average loss 2.800062417984009\n",
      " Progress epoch 12, 33.33%, average loss 2.7287256604149226\n",
      " Progress epoch 12, 65.08%, average loss 2.717487544548221\n",
      " Progress epoch 12, 96.83%, average loss 2.7102083534490866\n",
      "AUC of validation 0.901121978441566\n",
      "AUC of test 0.8558559775268759\n",
      "MAE 0.35170355736076997\n",
      "MRE 0.498298795528759\n",
      " Progress epoch 13, 1.59%, average loss 2.780573844909668\n",
      " Progress epoch 13, 33.33%, average loss 2.688065154211862\n",
      " Progress epoch 13, 65.08%, average loss 2.6814209833377745\n",
      " Progress epoch 13, 96.83%, average loss 2.6888249115865737\n",
      "AUC of validation 0.9070402678650102\n",
      "AUC of test 0.8530468370158285\n",
      "MAE 0.3495407903066287\n",
      "MRE 0.4952345552174722\n",
      " Progress epoch 14, 1.59%, average loss 2.6130807399749756\n",
      " Progress epoch 14, 33.33%, average loss 2.6604917617071244\n",
      " Progress epoch 14, 65.08%, average loss 2.662865185156101\n",
      " Progress epoch 14, 96.83%, average loss 2.675946681225886\n",
      "AUC of validation 0.9080535730020267\n",
      "AUC of test 0.855437307546864\n",
      "MAE 0.349664022370344\n",
      "MRE 0.4954091522257613\n",
      " Progress epoch 15, 1.59%, average loss 2.730717658996582\n",
      " Progress epoch 15, 33.33%, average loss 2.683836505526588\n",
      " Progress epoch 15, 65.08%, average loss 2.681531749120573\n",
      " Progress epoch 15, 96.83%, average loss 2.6653735833089858\n",
      "AUC of validation 0.9160278438628955\n",
      "AUC of test 0.8549511101507211\n",
      "MAE 0.3488747543447408\n",
      "MRE 0.49429090562780614\n",
      " Progress epoch 16, 1.59%, average loss 2.6173219680786133\n",
      " Progress epoch 16, 33.33%, average loss 2.653982014883132\n",
      " Progress epoch 16, 65.08%, average loss 2.6566983316002823\n",
      " Progress epoch 16, 96.83%, average loss 2.6508387776671865\n",
      "AUC of validation 0.9198460951038271\n",
      "AUC of test 0.8467397763491978\n",
      "MAE 0.34694905614898447\n",
      "MRE 0.4915625479771243\n",
      " Progress epoch 17, 1.59%, average loss 2.681528329849243\n",
      " Progress epoch 17, 33.33%, average loss 2.646683318274362\n",
      " Progress epoch 17, 65.08%, average loss 2.6288255249581685\n",
      " Progress epoch 17, 96.83%, average loss 2.645058557635448\n",
      "AUC of validation 0.9251622756777396\n",
      "AUC of test 0.8529387931500189\n",
      "MAE 0.3457152684457752\n",
      "MRE 0.4898144993333717\n",
      " Progress epoch 18, 1.59%, average loss 2.4669768810272217\n",
      " Progress epoch 18, 33.33%, average loss 2.634033589136033\n",
      " Progress epoch 18, 65.08%, average loss 2.6459775203611793\n",
      " Progress epoch 18, 96.83%, average loss 2.6346383563807754\n",
      "AUC of validation 0.9232678356389696\n",
      "AUC of test 0.8489951920479715\n",
      "MAE 0.3445605452575701\n",
      "MRE 0.4881784704624399\n",
      " Progress epoch 19, 1.59%, average loss 2.489821672439575\n",
      " Progress epoch 19, 33.33%, average loss 2.6066726616450717\n",
      " Progress epoch 19, 65.08%, average loss 2.6105150536793036\n",
      " Progress epoch 19, 96.83%, average loss 2.6236034143166465\n",
      "AUC of validation 0.9261902663964521\n",
      "AUC of test 0.8565987791043164\n",
      "MAE 0.34390966705633047\n",
      "MRE 0.48725629661197467\n",
      "0.9261902663964521\n"
     ]
    }
   ],
   "source": [
    "def run():\n",
    "    torch.manual_seed(3)\n",
    "    model = getattr(my_models, model_name).Model()\n",
    "\n",
    "    if torch.cuda.is_available():\n",
    "        model = model.cuda()\n",
    "\n",
    "    aucs = train(model)\n",
    "    print(max(aucs))\n",
    "    \n",
    "if __name__ == '__main__':\n",
    "    run()"
   ]
  },
  {
   "cell_type": "code",
   "execution_count": 3,
   "metadata": {},
   "outputs": [],
   "source": [
    "data_iter = data_loader.get_loader(batch_size = batch_size)"
   ]
  },
  {
   "cell_type": "code",
   "execution_count": 4,
   "metadata": {},
   "outputs": [],
   "source": [
    "for data in data_iter:\n",
    "    aa = 1\n",
    "    break\n",
    "    #print(data['forward']['masks'].size())\n",
    "    #print(data['labels'].size())"
   ]
  },
  {
   "cell_type": "code",
   "execution_count": 5,
   "metadata": {},
   "outputs": [
    {
     "data": {
      "text/plain": [
       "dict_keys(['values', 'forwards', 'masks', 'deltas', 'evals', 'eval_masks', 'us'])"
      ]
     },
     "execution_count": 5,
     "metadata": {},
     "output_type": "execute_result"
    }
   ],
   "source": [
    "data['forward'].keys()"
   ]
  },
  {
   "cell_type": "code",
   "execution_count": 7,
   "metadata": {},
   "outputs": [
    {
     "data": {
      "text/plain": [
       "torch.Size([32, 49, 35])"
      ]
     },
     "execution_count": 7,
     "metadata": {},
     "output_type": "execute_result"
    }
   ],
   "source": [
    "data['forward']['values'].size()"
   ]
  },
  {
   "cell_type": "code",
   "execution_count": 6,
   "metadata": {},
   "outputs": [
    {
     "data": {
      "text/plain": [
       "tensor([0., 0., 1., 1., 1., 1., 0., 1., 1., 1., 1., 0., 1., 1., 0., 1., 1., 1.,\n",
       "        1., 1., 1., 1., 1., 1., 1., 1., 1., 1., 1., 1., 1., 0.])"
      ]
     },
     "execution_count": 6,
     "metadata": {},
     "output_type": "execute_result"
    }
   ],
   "source": [
    "data['is_train']"
   ]
  },
  {
   "cell_type": "code",
   "execution_count": 7,
   "metadata": {},
   "outputs": [
    {
     "data": {
      "text/plain": [
       "tensor([0., 0., 1., 0., 1., 1., 0., 0., 1., 0., 0., 0., 0., 0., 0., 0., 0., 0.,\n",
       "        0., 0., 0., 0., 1., 0., 0., 0., 0., 0., 0., 0., 0., 1.])"
      ]
     },
     "execution_count": 7,
     "metadata": {},
     "output_type": "execute_result"
    }
   ],
   "source": [
    "data['labels']"
   ]
  },
  {
   "cell_type": "code",
   "execution_count": 8,
   "metadata": {},
   "outputs": [],
   "source": [
    "data['forward']['values'].size()\n",
    "v =  data['forward']['values']\n",
    "m = data['forward']['masks']"
   ]
  },
  {
   "cell_type": "code",
   "execution_count": 9,
   "metadata": {},
   "outputs": [
    {
     "data": {
      "text/plain": [
       "tensor([1., 0., 0., 0., 0., 0., 0., 0., 0., 0., 0., 0., 0., 0., 0., 0., 0., 0.,\n",
       "        0., 1., 0., 0., 0., 0., 0., 0., 0., 0., 0., 0., 1., 0., 0., 0., 0., 1.,\n",
       "        0., 0., 0., 0., 0., 0., 0., 0., 1., 0., 0., 0., 0.])"
      ]
     },
     "execution_count": 9,
     "metadata": {},
     "output_type": "execute_result"
    }
   ],
   "source": [
    "m[10,:,23]"
   ]
  },
  {
   "cell_type": "code",
   "execution_count": null,
   "metadata": {},
   "outputs": [],
   "source": []
  }
 ],
 "metadata": {
  "kernelspec": {
   "display_name": "my_pytorch",
   "language": "python",
   "name": "my_pytorch"
  },
  "language_info": {
   "codemirror_mode": {
    "name": "ipython",
    "version": 3
   },
   "file_extension": ".py",
   "mimetype": "text/x-python",
   "name": "python",
   "nbconvert_exporter": "python",
   "pygments_lexer": "ipython3",
   "version": "3.8.8"
  }
 },
 "nbformat": 4,
 "nbformat_minor": 4
}
